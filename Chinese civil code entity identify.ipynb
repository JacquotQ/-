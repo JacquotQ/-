{
  "nbformat": 4,
  "nbformat_minor": 0,
  "metadata": {
    "colab": {
      "provenance": [],
      "authorship_tag": "ABX9TyMjKivce1mlfkeXSar/dFu4",
      "include_colab_link": true
    },
    "kernelspec": {
      "name": "python3",
      "display_name": "Python 3"
    },
    "language_info": {
      "name": "python"
    }
  },
  "cells": [
    {
      "cell_type": "markdown",
      "metadata": {
        "id": "view-in-github",
        "colab_type": "text"
      },
      "source": [
        "<a href=\"https://colab.research.google.com/github/JacquotQ/-/blob/main/Chinese%20civil%20code%20entity%20identify.ipynb\" target=\"_parent\"><img src=\"https://colab.research.google.com/assets/colab-badge.svg\" alt=\"Open In Colab\"/></a>"
      ]
    },
    {
      "cell_type": "code",
      "execution_count": null,
      "metadata": {
        "id": "tCbLhIb3o2v2"
      },
      "outputs": [],
      "source": [
        "!pip install transformers\n",
        "\n",
        "import torch\n",
        "from transformers import pipeline\n",
        "\n",
        "# 加载命名实体识别模型\n",
        "ner_model = pipeline(\"ner\", model=\"dslim/bert-base-NER\", tokenizer=\"dslim/bert-base-NER\")\n",
        "\n",
        "# 读取民法典全文文件\n",
        "with open(\"Chinese_civil_code.txt\", \"r\", encoding=\"utf-8\") as file:\n",
        "    law_text = file.read()\n",
        "\n",
        "# 调用命名实体识别模型进行实体识别\n",
        "entities = ner_model(law_text)\n",
        "\n",
        "# 打印识别结果\n",
        "for entity in entities:\n",
        "    print(entity)\n"
      ]
    }
  ]
}